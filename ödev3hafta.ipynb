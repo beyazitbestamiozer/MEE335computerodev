{
 "cells": [
  {
   "cell_type": "markdown",
   "id": "9f105eef",
   "metadata": {},
   "source": [
    "# =====================>  3. HAFTA ÖDEVİ  <======================"
   ]
  },
  {
   "cell_type": "markdown",
   "id": "68fe6673",
   "metadata": {},
   "source": [
    "3 tane matamatik ya da fizik formüllünün ne işe yaradığından kısaca bahsedip, o kodu çalıştıracaksın.\n",
    "\n"
   ]
  },
  {
   "cell_type": "markdown",
   "id": "2d81e2eb",
   "metadata": {},
   "source": [
    "### 1 . ==>  Üç kenarı bilinen üçgenin türünü ve alanını hesaplama:"
   ]
  },
  {
   "cell_type": "markdown",
   "id": "3d4f9863",
   "metadata": {},
   "source": [
    "   Girilen 3 kenar ile bir üçgen oluşup oluşmadığı tespit edilmeli , girilen değerlerle bir üçgen çizilebiliniyorsa bu üçgenin kenarlarına göre ne tür üçgen olduğu bulunmalı (eşkenar üçgen, ikiz kenar üçgen ve çeşitkenar üçgen) ve alanı hesaplanmalıdır. "
   ]
  },
  {
   "cell_type": "markdown",
   "id": "54a7451f",
   "metadata": {},
   "source": [
    "NOT: kenar sayılarını tam sayı giriniz."
   ]
  },
  {
   "cell_type": "code",
   "execution_count": 207,
   "id": "4a76a88b",
   "metadata": {},
   "outputs": [
    {
     "name": "stdout",
     "output_type": "stream",
     "text": [
      "Birinci kenarı girin: 6\n",
      "İkinci kenarı girin: 8\n",
      "Üçüncü kenarı girin: 4\n",
      "üçgen oluşur.\n",
      "Üçgenin alanı:11.61895003862225\n",
      "6 8 4 kenarları çeşitkenar üçgen oluşturur.\n"
     ]
    }
   ],
   "source": [
    "a = input('Birinci kenarı girin: ')\n",
    "b = input('İkinci kenarı girin: ')\n",
    "c = input('Üçüncü kenarı girin: ')\n",
    "if a.isnumeric() and b.isnumeric() and c.isnumeric():\n",
    "    a=int(a)\n",
    "    b=int(b)\n",
    "    c=int(c)\n",
    "    if (a+b)>c and (b+c>a) and (c+a>b):\n",
    "        print(\"üçgen oluşur.\")         \n",
    "        u = (a + b + c) / 2\n",
    "        alan = (u*(u-a)*(u-b)*(u-c)) ** 0.5\n",
    "        print('Üçgenin alanı:{}'.format(alan))\n",
    "        if a==b==c:\n",
    "           print(a,b,c, \"kenarları eşkenar üçgen oluşturur.\")\n",
    "        elif a!=b!=c:\n",
    "           print(a,b,c, \"kenarları çeşitkenar üçgen oluşturur.\") \n",
    "        else:\n",
    "           print(a,b,c, \"kenarları ikizkenar üçgen oluşturur.\") \n",
    "    else:\n",
    "        print(\"Girdiğiniz kenar uzunlukları bir üçgen oluşturulamaz.\") \n",
    "else:\n",
    "    print(\"Lütfen kenar uzunluklarını tam sayı giriniz.\")  \n"
   ]
  },
  {
   "cell_type": "code",
   "execution_count": null,
   "id": "40eb3422",
   "metadata": {},
   "outputs": [],
   "source": []
  },
  {
   "cell_type": "markdown",
   "id": "15c1e553",
   "metadata": {},
   "source": [
    "### 2. ==>  Mükemmel Sayıyı Bulma:"
   ]
  },
  {
   "cell_type": "markdown",
   "id": "72bf3a21",
   "metadata": {},
   "source": [
    "  Bir sayı kendi dışındaki pozitif çarpanlarının toplamına eşitse, o sayı ' Mükemmel Sayı ' olarak adlandırılır."
   ]
  },
  {
   "cell_type": "markdown",
   "id": "3f9a0df1",
   "metadata": {},
   "source": [
    "NOT: Mükemmel sayılar pozitif sayılardır ve en küçük Mükemmel sayı 6'dır."
   ]
  },
  {
   "cell_type": "code",
   "execution_count": 206,
   "id": "b1664b33",
   "metadata": {},
   "outputs": [
    {
     "name": "stdout",
     "output_type": "stream",
     "text": [
      "Sayı Giriniz:68\n",
      "1\n",
      "2\n",
      "4\n",
      "17\n",
      "34\n",
      "Pozitif bölenlerin toplamı:58\n",
      "Mükemmel Sayı Degildir\n"
     ]
    }
   ],
   "source": [
    "sayı = int(input(\"Sayı Giriniz:\"))\n",
    "\n",
    "toplam=0\n",
    "if sayı >=0:\n",
    "    for i in range(1,sayı):\n",
    "       if(sayı%i == 0):\n",
    "          toplam +=i\n",
    "          print(i)\n",
    "print('Pozitif bölenlerin toplamı:{}'.format(toplam))\n",
    "if(sayı == toplam):\n",
    "        print(\"Mükemmel Sayıdır.\")\n",
    "else:\n",
    "        print(\"Mükemmel Sayı Degildir\")"
   ]
  },
  {
   "cell_type": "markdown",
   "id": "0132dd24",
   "metadata": {},
   "source": [
    "### 3. ==> Faktöriyel Hesaplama:"
   ]
  },
  {
   "cell_type": "markdown",
   "id": "9a45fa5d",
   "metadata": {},
   "source": [
    "n bir sayma sayısı olmak üzere 1’den n’ye kadar olan sayıların çarpımına n faktöriyel denir ve n! ile gösterilir."
   ]
  },
  {
   "cell_type": "markdown",
   "id": "5fee4ab0",
   "metadata": {},
   "source": [
    "NOT: Yukarıdaki kurala '0' sayısı uymadığı halde 0!=1' dir."
   ]
  },
  {
   "cell_type": "code",
   "execution_count": 204,
   "id": "f657d8dc",
   "metadata": {},
   "outputs": [
    {
     "name": "stdout",
     "output_type": "stream",
     "text": [
      "Faktöriyelini Hesaplamak için sayı giriniz:0\n",
      "Faktoriyel :  1\n"
     ]
    }
   ],
   "source": [
    "sayı = int(input(\"Faktöriyelini Hesaplamak için sayı giriniz:\"))\n",
    "değer = 1\n",
    "for i in range(sayı):\n",
    "    değer = değer * (i+1)\n",
    " \n",
    "print(\"Faktoriyel : \", değer)"
   ]
  },
  {
   "cell_type": "code",
   "execution_count": null,
   "id": "798b53d1",
   "metadata": {},
   "outputs": [],
   "source": []
  }
 ],
 "metadata": {
  "kernelspec": {
   "display_name": "Python 3 (ipykernel)",
   "language": "python",
   "name": "python3"
  },
  "language_info": {
   "codemirror_mode": {
    "name": "ipython",
    "version": 3
   },
   "file_extension": ".py",
   "mimetype": "text/x-python",
   "name": "python",
   "nbconvert_exporter": "python",
   "pygments_lexer": "ipython3",
   "version": "3.9.12"
  }
 },
 "nbformat": 4,
 "nbformat_minor": 5
}
